{
 "cells": [
  {
   "cell_type": "code",
   "execution_count": 1,
   "id": "54e811d1",
   "metadata": {},
   "outputs": [],
   "source": [
    "import os\n",
    "import random\n",
    "import pandas as pd\n",
    "\n",
    "from sklearn.utils import shuffle\n",
    "from openpyxl import Workbook\n",
    "from openpyxl import load_workbook"
   ]
  },
  {
   "cell_type": "markdown",
   "id": "5e1c4ae1",
   "metadata": {},
   "source": [
    "### Image shuffle"
   ]
  },
  {
   "cell_type": "code",
   "execution_count": 2,
   "id": "3834e8dd",
   "metadata": {},
   "outputs": [],
   "source": [
    "im = pd.read_csv(r\"C:\\Users\\47637\\Downloads\\HW of DL\\DL_Final\\Hand Gesture Recognition Mediapipe\\excel\\images.csv\")\n",
    "\n",
    "# 按行打乱\n",
    "im = shuffle(im)\n",
    "\n",
    "#index索引不出现，header表头出现\n",
    "im.to_csv(r\"C:\\Users\\47637\\Downloads\\HW of DL\\DL_Final\\Hand Gesture Recognition Mediapipe\\excel\\images_rand.csv\", index=False, header=True)  "
   ]
  },
  {
   "cell_type": "markdown",
   "id": "4fa830b1",
   "metadata": {},
   "source": [
    "### Landmark shuffle"
   ]
  },
  {
   "cell_type": "code",
   "execution_count": 3,
   "id": "737e5b1a",
   "metadata": {},
   "outputs": [],
   "source": [
    "ld = pd.read_csv(r\"C:\\Users\\47637\\Downloads\\HW of DL\\DL_Final\\Hand Gesture Recognition Mediapipe\\excel\\landmarks.csv\")\n",
    "\n",
    "# 按行打乱\n",
    "ld = shuffle(ld)\n",
    "\n",
    "#index索引不出现，header表头出现\n",
    "ld.to_csv(r\"C:\\Users\\47637\\Downloads\\HW of DL\\DL_Final\\Hand Gesture Recognition Mediapipe\\excel\\landmarks_rand.csv\", index=False, header=True)  "
   ]
  },
  {
   "cell_type": "markdown",
   "id": "87d55a01",
   "metadata": {},
   "source": [
    "### Imagetest shuffle"
   ]
  },
  {
   "cell_type": "code",
   "execution_count": 4,
   "id": "f884dbb3",
   "metadata": {},
   "outputs": [],
   "source": [
    "imtest = pd.read_csv(r\"C:\\Users\\47637\\Downloads\\HW of DL\\DL_Final\\Hand Gesture Recognition Mediapipe\\exceltest\\imagestest.csv\")\n",
    "\n",
    "# 按行打乱\n",
    "imtest = shuffle(imtest)\n",
    "\n",
    "#index索引不出现，header表头出现\n",
    "imtest.to_csv(r\"C:\\Users\\47637\\Downloads\\HW of DL\\DL_Final\\Hand Gesture Recognition Mediapipe\\exceltest\\imagestest_rand.csv\", index=False, header=True)  "
   ]
  },
  {
   "cell_type": "markdown",
   "id": "94b62095",
   "metadata": {},
   "source": [
    "### Landmarktest shuffle"
   ]
  },
  {
   "cell_type": "code",
   "execution_count": 5,
   "id": "844eae45",
   "metadata": {},
   "outputs": [],
   "source": [
    "ldtest = pd.read_csv(r\"C:\\Users\\47637\\Downloads\\HW of DL\\DL_Final\\Hand Gesture Recognition Mediapipe\\exceltest\\landmarkstest.csv\")\n",
    "\n",
    "# 按行打乱\n",
    "ldtest = shuffle(ldtest)\n",
    "\n",
    "#index索引不出现，header表头出现\n",
    "ldtest.to_csv(r\"C:\\Users\\47637\\Downloads\\HW of DL\\DL_Final\\Hand Gesture Recognition Mediapipe\\exceltest\\landmarkstest_rand.csv\", index=False, header=True)  "
   ]
  }
 ],
 "metadata": {
  "kernelspec": {
   "display_name": "Python 3",
   "language": "python",
   "name": "python3"
  },
  "language_info": {
   "codemirror_mode": {
    "name": "ipython",
    "version": 3
   },
   "file_extension": ".py",
   "mimetype": "text/x-python",
   "name": "python",
   "nbconvert_exporter": "python",
   "pygments_lexer": "ipython3",
   "version": "3.9.6"
  }
 },
 "nbformat": 4,
 "nbformat_minor": 5
}
